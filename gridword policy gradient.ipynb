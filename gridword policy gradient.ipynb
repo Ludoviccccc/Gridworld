{
 "cells": [
  {
   "cell_type": "markdown",
   "id": "e84debde",
   "metadata": {},
   "source": [
    "# Gridworld with policy gradient\n",
    "J'essaie la méthode online policy gradient sur un cas simple.\n",
    "J'implémente gridword.\n",
    "L'agent part toujours du meme point et doit atteindre un point qui ne bouge pas au court du temps"
   ]
  },
  {
   "cell_type": "code",
   "execution_count": 1,
   "id": "18c7a71d",
   "metadata": {},
   "outputs": [],
   "source": [
    "import torch.nn as nn\n",
    "import torch\n",
    "import numpy as np\n",
    "from torch import distributions\n",
    "from IPython.display import clear_output\n",
    "import time \n",
    "import torch.nn.functional\n",
    "from torch.nn.utils.rnn import pad_sequence\n",
    "import torch.optim as optim\n",
    "import matplotlib.pyplot as plt"
   ]
  },
  {
   "cell_type": "code",
   "execution_count": 28,
   "id": "b6ce24ae",
   "metadata": {},
   "outputs": [],
   "source": [
    "N  = 5 #réaliser N épisodes\n",
    "Nx = 8 #longueur de la grille\n",
    "Ny = 8 #largeur de la grille\n",
    "Na = 4 #nombres d'actions possibles\n",
    "actions = [(0,1), (0, -1), (1, 0), (-1, 0)]\n",
    "R = -1\n",
    "S = 3\n",
    "G = 50\n",
    "beta = .01 \n",
    "'''\n",
    "Le parametre Beta permet est la fréquence à laquelle on choisit\n",
    "d'explorer de manière uniforme une des quatre actions\n",
    "'''\n",
    "gamma = .9"
   ]
  },
  {
   "cell_type": "markdown",
   "id": "1349ea88",
   "metadata": {},
   "source": [
    "On essaie plusieurs récompenses dans les fonctions de transition. Dans la première fonction de transistion, l'agent recoit une récompense de $R = -1$ à chaque pas de temps pour lequel il n'a pas atteint le point final. Et lorsque que l'agent atteint l'objectif il recoit une récompense de $R = 0$. De sorte que l'agent \"veuille\" atteindre l'objectif le point final le plus rapidement possible"
   ]
  },
  {
   "cell_type": "code",
   "execution_count": 3,
   "id": "a27df3fc",
   "metadata": {},
   "outputs": [],
   "source": [
    "def transition(a,s, Nx, Ny,G):\n",
    "    assert(0<=s<Nx*Ny)\n",
    "    d = actions[a]\n",
    "    s_couple = (s//Ny, s%Ny)\n",
    "    print('s', s_couple)\n",
    "    if Nx>s_couple[0]+ d[0]>=0 and Ny>s_couple[1]+d[1]>=0:\n",
    "        sp = (s_couple[0]+ d[0], s_couple[1]+d[1])\n",
    "        assert(0<=sp[0]*Ny+sp[1]<Nx*Ny)\n",
    "        s = sp[0]*Ny+sp[1]  \n",
    "    R = (s!=G)*(-1) #+ -5*(not (Nx>s_couple[0]+ d[0]>=0 and Ny>s_couple[1]+d[1]>=0))+10*(G==s)\n",
    "    return s,R"
   ]
  },
  {
   "cell_type": "code",
   "execution_count": 4,
   "id": "42084d2b",
   "metadata": {},
   "outputs": [],
   "source": [
    "def transition3(a,s, Nx, Ny,G):\n",
    "    assert(0<=s<Nx*Ny)\n",
    "    d = actions[a]\n",
    "    s_couple = (s//Ny, s%Ny)\n",
    "    print('s', s_couple)\n",
    "    if Nx>s_couple[0]+ d[0]>=0 and Ny>s_couple[1]+d[1]>=0:\n",
    "        sp = (s_couple[0]+ d[0], s_couple[1]+d[1])\n",
    "        assert(0<=sp[0]*Ny+sp[1]<Nx*Ny)\n",
    "        s = sp[0]*Ny+sp[1]  \n",
    "    R = (s!=G)*(-1)+ -5*(not (Nx>s_couple[0]+ d[0]>=0 and Ny>s_couple[1]+d[1]>=0))\n",
    "    return s,R"
   ]
  },
  {
   "cell_type": "code",
   "execution_count": 5,
   "id": "939d6769",
   "metadata": {},
   "outputs": [],
   "source": [
    "def transition2(a,s, Nx, Ny,G):\n",
    "    assert(0<=s<Nx*Ny)\n",
    "    d = actions[a]\n",
    "    s_couple = (s//Ny, s%Ny)\n",
    "    print('s', s_couple)\n",
    "    if Nx>s_couple[0]+ d[0]>=0 and Ny>s_couple[1]+d[1]>=0:\n",
    "        sp = (s_couple[0]+ d[0], s_couple[1]+d[1])\n",
    "        assert(0<=sp[0]*Ny+sp[1]<Nx*Ny)\n",
    "        s = sp[0]*Ny+sp[1]  \n",
    "    R = -np.linalg.norm((s_couple[0]+ d[0] - G//Ny, s_couple[1]+d[1] - G%Ny), ord=2)\n",
    "    return s,R"
   ]
  },
  {
   "cell_type": "code",
   "execution_count": 6,
   "id": "44c53cf5",
   "metadata": {},
   "outputs": [],
   "source": [
    "def zero_one(state,J):\n",
    "    x = nn.functional.one_hot(state,J)\n",
    "    x = x.reshape((len(state),-1))\n",
    "    x = x.type(torch.float32)\n",
    "    return x"
   ]
  },
  {
   "cell_type": "code",
   "execution_count": 7,
   "id": "75bca799",
   "metadata": {},
   "outputs": [],
   "source": [
    "def grid(s, Nx, Ny):\n",
    "    assert(type(Nx)==int)\n",
    "    assert(type(Ny)==int)\n",
    "    assert(type(s)==int)\n",
    "    assert(0<=s<=Nx*Ny)\n",
    "    T = np.zeros((Nx,Ny))\n",
    "    T[G//Ny, G%Ny] = 6\n",
    "    T[s//Ny, s%Ny] = 1\n",
    "    print(T)"
   ]
  },
  {
   "cell_type": "code",
   "execution_count": 8,
   "id": "076c7c36",
   "metadata": {},
   "outputs": [],
   "source": [
    "def tensor_state(s, Nx, Ny):\n",
    "    state = torch.zeros(Nx*Ny)\n",
    "    state[s] = 1\n",
    "    state = state[None, :]\n",
    "    return state"
   ]
  },
  {
   "cell_type": "code",
   "execution_count": 9,
   "id": "7afdc318",
   "metadata": {},
   "outputs": [],
   "source": [
    "class policy2(nn.Module):\n",
    "    def __init__(self, Nx,Ny, Na):\n",
    "        super(policy2,self).__init__()\n",
    "        self.Nx = Nx\n",
    "        self.Ny = Ny\n",
    "        self.Na = Na\n",
    "        self.linear1 = nn.Linear(self.Ny*self.Nx,64)\n",
    "        self.linear2 = nn.Linear(64,32)\n",
    "        self.linear3 = nn.Linear(32,self.Na)\n",
    "        self.actv = nn.ReLU()\n",
    "    def forward(self, x):\n",
    "        out = self.linear1(x)\n",
    "        out = self.actv(out)\n",
    "        out = self.linear2(out)\n",
    "        out = self.actv(out)\n",
    "        out = self.linear3(out)\n",
    "        return out"
   ]
  },
  {
   "cell_type": "code",
   "execution_count": 10,
   "id": "4a7e0342",
   "metadata": {},
   "outputs": [],
   "source": [
    "class policy3(nn.Module):\n",
    "    def __init__(self, Nx,Ny, Na):\n",
    "        super(policy3,self).__init__()\n",
    "        self.Nx = Nx\n",
    "        self.Ny = Ny\n",
    "        self.Na = Na\n",
    "        self.linear1 = nn.Linear(self.Ny*self.Nx,64)\n",
    "        self.linear2 = nn.Linear(64,32)\n",
    "        self.linear3 = nn.Linear(32,16)\n",
    "        self.linear4 = nn.Linear(16,16)\n",
    "        self.linear5 = nn.Linear(16,self.Na)\n",
    "        self.actv = nn.ReLU()\n",
    "    def forward(self, x):\n",
    "        out = self.linear1(x)\n",
    "        out = self.actv(out)\n",
    "        out = self.linear2(out)\n",
    "        out = self.actv(out)\n",
    "        out = self.linear3(out)\n",
    "        out = self.actv(out)\n",
    "        out = self.linear4(out)\n",
    "        out = self.actv(out)\n",
    "        out = self.linear5(out)\n",
    "        return out"
   ]
  },
  {
   "cell_type": "code",
   "execution_count": 11,
   "id": "5dd4e6ae",
   "metadata": {},
   "outputs": [],
   "source": [
    "class policy(nn.Module):\n",
    "    def __init__(self, Nx,Ny, Na):\n",
    "        super(policy,self).__init__()\n",
    "        self.Nx = Nx\n",
    "        self.Ny = Ny\n",
    "        self.Na = Na\n",
    "        self.linear1 = nn.Linear(self.Ny*self.Nx,64)\n",
    "        self.linear2 = nn.Linear(64,self.Na)\n",
    "        self.actv = nn.ReLU()\n",
    "        self.softm = nn.Softmax(dim=1)\n",
    "    def forward(self, x):\n",
    "        out = self.linear1(x)\n",
    "        out = self.actv(out)\n",
    "        out = self.linear2(out)\n",
    "        #out = self.softm(out) #on utilise softmax pour sortir une probabilité\n",
    "        return out"
   ]
  },
  {
   "cell_type": "code",
   "execution_count": 12,
   "id": "115cb91e",
   "metadata": {},
   "outputs": [],
   "source": [
    "def test(p):\n",
    "    #p is the policy\n",
    "    i = 0\n",
    "    s = S\n",
    "    while True:\n",
    "        clear_output(wait=True)\n",
    "        print(i)\n",
    "        state = tensor_state(s, Nx, Ny)\n",
    "        out  = p(state)\n",
    "        dist  = distributions.Categorical(softm(out))\n",
    "        a = dist.sample([1]) \n",
    "        sp = transition(a,s, Nx, Ny)\n",
    "        grid(sp, Nx, Ny)\n",
    "        s = sp\n",
    "        time.sleep(0.05)\n",
    "        i+=1\n",
    "        if s==G:\n",
    "            break\n",
    "    return i"
   ]
  },
  {
   "cell_type": "code",
   "execution_count": 13,
   "id": "28455f30",
   "metadata": {},
   "outputs": [],
   "source": [
    "def train(n_episodes, G,p, transition, lr=0.01):\n",
    "    optimizer = optim.SGD(p.parameters(), lr=lr)#, momentum=0.9)\n",
    "    Loss = torch.nn.CrossEntropyLoss(weight = None, reduction = 'none')\n",
    "    softm = nn.Softmax(dim=1)\n",
    "    RR = 0\n",
    "    nombres_iterations = []\n",
    "    recompense = []\n",
    "    for n in range(n_episodes):\n",
    "        s = S\n",
    "        R_list = []\n",
    "        States = [S]\n",
    "        actions_list = []\n",
    "        out_list = []\n",
    "        sum_R = 0\n",
    "        i = 0\n",
    "        optimizer.zero_grad()\n",
    "        while True:\n",
    "            clear_output(wait=True)\n",
    "            print('n', n+1)\n",
    "            print(i)\n",
    "            state = tensor_state(s, Nx, Ny)\n",
    "            out  = p(state)\n",
    "            out_list.append(out)\n",
    "            dist  = distributions.Categorical(softm(out))\n",
    "            #coder epsilon gridy\n",
    "            if np.random.binomial(1, beta):\n",
    "                a = torch.tensor([[np.random.randint(0,Na)]])\n",
    "            else:\n",
    "                a = dist.sample([1])\n",
    "            actions_list.append(a.numpy()[0][0])  \n",
    "            sp,R = transition(a,s, Nx, Ny, G)\n",
    "            grid(sp, Nx, Ny)\n",
    "            s = sp\n",
    "            States.append(s)\n",
    "            print('reward previous ep', RR)\n",
    "            time.sleep(0.05)\n",
    "            i+=1\n",
    "            R_list.append(R)\n",
    "            if sp==G:\n",
    "                break\n",
    "        T = torch.tensor([sum(R_list[i:])for i in range(len(R_list))]).type(torch.float32)\n",
    "        T = (T - torch.mean(T))/torch.std(T)\n",
    "        out_p = pad_sequence(out_list)\n",
    "        actions_tens = zero_one(torch.tensor(actions_list),Na)\n",
    "        loss = Loss(out_p[0],actions_tens)\n",
    "        RR =sum(R_list)\n",
    "        recompense.append(RR)\n",
    "        nombres_iterations.append(i)\n",
    "        PseudoLoss_w = torch.multiply(loss,T)\n",
    "        #print(PseudoLoss_w)\n",
    "        NegativPseudoLoss = torch.sum(PseudoLoss_w)\n",
    "        #calcul du gradient de la pseudoloss\n",
    "        NegativPseudoLoss.backward()\n",
    "        #On maximise la pseudo loss en minimisant son oppose\n",
    "        optimizer.step()\n",
    "    return recompense, nombres_iterations"
   ]
  },
  {
   "cell_type": "code",
   "execution_count": 14,
   "id": "4787df85",
   "metadata": {},
   "outputs": [],
   "source": [
    "Policy = policy2(Nx,Ny,Na)"
   ]
  },
  {
   "cell_type": "code",
   "execution_count": 15,
   "id": "31303705",
   "metadata": {},
   "outputs": [
    {
     "name": "stdout",
     "output_type": "stream",
     "text": [
      "n 2000\n",
      "6\n",
      "s (5, 2)\n",
      "[[0. 0. 0. 0. 0. 0. 0. 0.]\n",
      " [0. 0. 0. 0. 0. 0. 0. 0.]\n",
      " [0. 0. 0. 0. 0. 0. 0. 0.]\n",
      " [0. 0. 0. 0. 0. 0. 0. 0.]\n",
      " [0. 0. 0. 0. 0. 0. 0. 0.]\n",
      " [0. 0. 0. 0. 0. 0. 0. 0.]\n",
      " [0. 0. 1. 0. 0. 0. 0. 0.]\n",
      " [0. 0. 0. 0. 0. 0. 0. 0.]]\n",
      "reward previous ep -6\n"
     ]
    }
   ],
   "source": [
    "c,iterr = train(2000, G,Policy, transition, 0.01)"
   ]
  },
  {
   "cell_type": "code",
   "execution_count": 19,
   "id": "d950dfbe",
   "metadata": {},
   "outputs": [
    {
     "name": "stdout",
     "output_type": "stream",
     "text": [
      "8.165\n"
     ]
    }
   ],
   "source": []
  },
  {
   "cell_type": "code",
   "execution_count": 17,
   "id": "6c59441d",
   "metadata": {},
   "outputs": [
    {
     "data": {
      "image/png": "[encoded data removed]",
      "text/plain": [
       "<Figure size 640x480 with 1 Axes>"
      ]
     },
     "metadata": {},
     "output_type": "display_data"
    },
    {
     "data": {
      "image/png": "[encoded data removed]",
      "text/plain": [
       "<Figure size 640x480 with 1 Axes>"
      ]
     },
     "metadata": {},
     "output_type": "display_data"
    }
   ],
   "source": [
    "plt.plot(iterr)\n",
    "plt.title('Nombre iterations')\n",
    "plt.xlabel('episode')\n",
    "plt.show()\n",
    "plt.plot(c)\n",
    "plt.title('récompense')\n",
    "plt.xlabel('episode')\n",
    "plt.show()"
   ]
  },
  {
   "cell_type": "code",
   "execution_count": 20,
   "id": "45ad6bba",
   "metadata": {},
   "outputs": [
    {
     "name": "stdout",
     "output_type": "stream",
     "text": [
      "8.165\n"
     ]
    }
   ],
   "source": [
    "print(np.mean(iterr[1800:]))"
   ]
  },
  {
   "cell_type": "markdown",
   "id": "6a3e432f",
   "metadata": {},
   "source": [
    "La polique semble avoir \"convergé\", ou presque car la récompense smeble est maximisée. En moyenne sur les derniers episodes, il faut 8 iterrations pour que l'agent termine l'épisode. On pourra tenter de mettre un facteur d'escompte dans la somme des récompenses. L'approche faite ici est la version \"online\" de la méthode policy gradient. Il est interréssant de tenter une approche \"offline\", dans laquelle on aura pas besoin qu'un episode termine pour actualiser la politique"
   ]
  },
  {
   "cell_type": "code",
   "execution_count": null,
   "id": "e83c718e",
   "metadata": {},
   "outputs": [],
   "source": []
  },
  {
   "cell_type": "code",
   "execution_count": null,
   "id": "e5bb1637",
   "metadata": {},
   "outputs": [],
   "source": []
  },
  {
   "cell_type": "code",
   "execution_count": null,
   "id": "f139965d",
   "metadata": {},
   "outputs": [],
   "source": []
  },
  {
   "cell_type": "code",
   "execution_count": null,
   "id": "786cb4ba",
   "metadata": {},
   "outputs": [],
   "source": []
  },
  {
   "cell_type": "code",
   "execution_count": null,
   "id": "3d3b034c",
   "metadata": {},
   "outputs": [],
   "source": []
  },
  {
   "cell_type": "code",
   "execution_count": null,
   "id": "4525c7e1",
   "metadata": {},
   "outputs": [],
   "source": []
  },
  {
   "cell_type": "code",
   "execution_count": null,
   "id": "ad1f705a",
   "metadata": {},
   "outputs": [],
   "source": []
  },
  {
   "cell_type": "code",
   "execution_count": null,
   "id": "b1d95052",
   "metadata": {},
   "outputs": [],
   "source": []
  },
  {
   "cell_type": "code",
   "execution_count": null,
   "id": "38635762",
   "metadata": {},
   "outputs": [],
   "source": []
  },
  {
   "cell_type": "code",
   "execution_count": null,
   "id": "edad578e",
   "metadata": {},
   "outputs": [],
   "source": []
  },
  {
   "cell_type": "code",
   "execution_count": null,
   "id": "6ff51abc",
   "metadata": {},
   "outputs": [],
   "source": []
  },
  {
   "cell_type": "code",
   "execution_count": null,
   "id": "4e22f0ea",
   "metadata": {},
   "outputs": [],
   "source": []
  },
  {
   "cell_type": "code",
   "execution_count": 38,
   "id": "5d9069f1",
   "metadata": {},
   "outputs": [],
   "source": []
  }
 ],
 "metadata": {
  "kernelspec": {
   "display_name": "Python 3 (ipykernel)",
   "language": "python",
   "name": "python3"
  },
  "language_info": {
   "codemirror_mode": {
    "name": "ipython",
    "version": 3
   },
   "file_extension": ".py",
   "mimetype": "text/x-python",
   "name": "python",
   "nbconvert_exporter": "python",
   "pygments_lexer": "ipython3",
   "version": "3.10.12"
  }
 },
 "nbformat": 4,
 "nbformat_minor": 5
}
