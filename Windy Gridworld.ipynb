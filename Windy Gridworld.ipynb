{
 "cells": [
  {
   "cell_type": "markdown",
   "id": "7e03a230",
   "metadata": {},
   "source": [
    "# Windy Gridworld\n",
    "J'implémente la méthode vanille Sarsa pour WindyGridworld.\n",
    "L'agent part toujours du meme point S(start) et doit atteindre un point G (Goal).\n",
    "A chaque pas de temps, si le nouvel etat s n'est pas G alors la récompense est négative, et soit $R=-1$"
   ]
  },
  {
   "cell_type": "code",
   "execution_count": 21,
   "id": "a4c70edd",
   "metadata": {},
   "outputs": [],
   "source": [
    "import numpy as np\n",
    "from IPython.display import clear_output\n",
    "import time \n",
    "import matplotlib.pyplot as plt"
   ]
  },
  {
   "cell_type": "markdown",
   "id": "715876c5",
   "metadata": {},
   "source": [
    "## Mise en place de l'environnement"
   ]
  },
  {
   "cell_type": "code",
   "execution_count": 3,
   "id": "71c1a781",
   "metadata": {},
   "outputs": [],
   "source": [
    "#actions\n",
    "actions = [(0,1), (0, -1), (1, 0), (-1, 0)]\n",
    "#diagonal actions\n",
    "#actions = [(0,1), (0,-1), (1,0), (-1, 0), (1,1), (1,-1), (-1,1), (-1, -1)]\n",
    "number_actions = len(actions)\n",
    "Nx = 9\n",
    "Ny = 6\n",
    "#variables for the policy\n",
    "alpha = .5\n",
    "epsilon = .1\n",
    "R = -1\n",
    "gamma =1\n",
    "# Goal and start points\n",
    "G = (7,3)\n",
    "S = (0,3)"
   ]
  },
  {
   "cell_type": "code",
   "execution_count": 4,
   "id": "d2a8617d",
   "metadata": {},
   "outputs": [],
   "source": [
    "def grid(s):\n",
    "    assert(0<=s[0]<=Nx and 0<=s[1]<=Ny)\n",
    "    P = np.zeros((10,7))\n",
    "    P[G] = 3\n",
    "    if s[0]==G[0] and s[1]==G[1]:\n",
    "        P[G] = 10\n",
    "    else:\n",
    "        P[s] = 100\n",
    "    print(P.T)"
   ]
  },
  {
   "cell_type": "code",
   "execution_count": 5,
   "id": "3a6193c2",
   "metadata": {},
   "outputs": [
    {
     "name": "stdout",
     "output_type": "stream",
     "text": [
      "[[  0.   0.   0.   0.   0.   0.   0.   0.   0.   0.]\n",
      " [  0.   0.   0.   0.   0.   0.   0.   0.   0.   0.]\n",
      " [  0.   0.   0.   0.   0.   0.   0.   0.   0.   0.]\n",
      " [  0.   0.   0.   0.   0.   0.   0.   3.   0.   0.]\n",
      " [  0.   0.   0.   0.   0.   0.   0.   0.   0.   0.]\n",
      " [  0.   0.   0.   0.   0.   0.   0.   0.   0.   0.]\n",
      " [  0.   0.   0.   0.   0. 100.   0.   0.   0.   0.]]\n"
     ]
    }
   ],
   "source": [
    "grid((5,6))"
   ]
  },
  {
   "cell_type": "markdown",
   "id": "c7d92531",
   "metadata": {},
   "source": [
    "Let's define the Sarsa update rule"
   ]
  },
  {
   "cell_type": "code",
   "execution_count": 6,
   "id": "12d4aff7",
   "metadata": {},
   "outputs": [],
   "source": [
    "def update_Sarsa(s, a, R, s_, a_):\n",
    "    if not(s[0] == G[0] and s[1]==G[1]):\n",
    "        result = Q[s[0], s[1], a] + alpha*(R+gamma*Q[ s_[0], s_[1], a_,] - Q[s[0], s[1], a ])\n",
    "    else:\n",
    "        result = Q[s[0], s[1], a] + alpha*(gamma*Q[s_[0], s_[1], a_] - Q[s[0], s[1],a, ])\n",
    "    return result"
   ]
  },
  {
   "cell_type": "code",
   "execution_count": 7,
   "id": "587de4b3",
   "metadata": {},
   "outputs": [],
   "source": [
    "def action_max(Q,s):\n",
    "    argmax = None\n",
    "    maxx = Q[s[0], s[1], 0]\n",
    "    for (j,q) in enumerate(Q[s[0], s[1], :]):\n",
    "        if q >=maxx:\n",
    "            maxx   = q\n",
    "            argmax = j\n",
    "    return argmax "
   ]
  },
  {
   "cell_type": "code",
   "execution_count": 8,
   "id": "5db33044",
   "metadata": {},
   "outputs": [],
   "source": [
    "def new_state(s,a):\n",
    "    wind = [0,0,0,-1,-1,-1,-2,-2,-1,0]\n",
    "    if Nx>= s[0]+actions[a][0]>=0 and Ny>= s[1]+actions[a][1]>=0:\n",
    "        s_ = (s[0]+actions[a][0],max(0, s[1]+wind[s[0]]+actions[a][1]))\n",
    "    else:\n",
    "        s_ = s \n",
    "    return s_"
   ]
  },
  {
   "cell_type": "code",
   "execution_count": 9,
   "id": "56528d86",
   "metadata": {},
   "outputs": [
    {
     "name": "stdout",
     "output_type": "stream",
     "text": [
      "[[  0.   0.   0.   0.   0.   0.   0.   0.   0.   0.]\n",
      " [  0.   0.   0.   0.   0.   0.   0.   0.   0.   0.]\n",
      " [  0.   0.   0.   0.   0.   0.   0.   0.   0.   0.]\n",
      " [100.   0.   0.   0.   0.   0.   0.   3.   0.   0.]\n",
      " [  0.   0.   0.   0.   0.   0.   0.   0.   0.   0.]\n",
      " [  0.   0.   0.   0.   0.   0.   0.   0.   0.   0.]\n",
      " [  0.   0.   0.   0.   0.   0.   0.   0.   0.   0.]]\n"
     ]
    }
   ],
   "source": [
    "s = (0,3)\n",
    "grid(s)"
   ]
  },
  {
   "cell_type": "markdown",
   "id": "50b0f361",
   "metadata": {},
   "source": [
    "We initialize Q"
   ]
  },
  {
   "cell_type": "code",
   "execution_count": 28,
   "id": "4240f16d",
   "metadata": {},
   "outputs": [],
   "source": [
    "Q = np.zeros((Nx+1,Ny+1, number_actions), dtype='float') #Q[statex ,statey, action]\n",
    "k = 0"
   ]
  },
  {
   "cell_type": "markdown",
   "id": "6f30b2e0",
   "metadata": {},
   "source": [
    "We now create the the on-policy TD control loop"
   ]
  },
  {
   "cell_type": "code",
   "execution_count": 29,
   "id": "14a2d764",
   "metadata": {},
   "outputs": [],
   "source": [
    "iterations = []"
   ]
  },
  {
   "cell_type": "code",
   "execution_count": 30,
   "id": "d903d41d",
   "metadata": {},
   "outputs": [
    {
     "name": "stdout",
     "output_type": "stream",
     "text": [
      "Episode 500\n",
      "mouv 15\n",
      "[[ 0.  0.  0.  0.  0.  0.  0.  0.  0.  0.]\n",
      " [ 0.  0.  0.  0.  0.  0.  0.  0.  0.  0.]\n",
      " [ 0.  0.  0.  0.  0.  0.  0.  0.  0.  0.]\n",
      " [ 0.  0.  0.  0.  0.  0.  0. 10.  0.  0.]\n",
      " [ 0.  0.  0.  0.  0.  0.  0.  0.  0.  0.]\n",
      " [ 0.  0.  0.  0.  0.  0.  0.  0.  0.  0.]\n",
      " [ 0.  0.  0.  0.  0.  0.  0.  0.  0.  0.]]\n"
     ]
    }
   ],
   "source": [
    "j = 0\n",
    "while j <500+1: #number of episodes\n",
    "    s = S\n",
    "    a = action_max(Q,s)     #choose a from the state s using policy Q\n",
    "    i =0\n",
    "    grid(s)\n",
    "    while True:     # loop over each step of the episode,  here we have an undiscounted episodic task\n",
    "        s_ = new_state(s,a)         #new state\n",
    "        if np.random.binomial(1, epsilon):\n",
    "            a_ = np.random.randint(0,number_actions)\n",
    "        else:\n",
    "            a_ = action_max(Q,s_) #choose actions a_ from s_\n",
    "        #print('s_ = ', s_, 'action values = ', Q[s_[0], s_[1], :],'a_', a_)\n",
    "        clear_output(wait=True)\n",
    "        print(f'Episode {k}')\n",
    "        print(f'mouv {i}')\n",
    "        grid(s_)\n",
    "        #time.sleep(.1)\n",
    "        Q[s[0], s[1], a] = update_Sarsa(s, a, R, s_, a_)         #update rule\n",
    "        s = (s_[0], s_[1])\n",
    "        a = np.copy(a_)\n",
    "        i+=1\n",
    "        if s[0] == G[0] and s[1]==G[1]:\n",
    "            break\n",
    "    iterations.append(i)\n",
    "    j+=1\n",
    "    k+=1"
   ]
  },
  {
   "cell_type": "code",
   "execution_count": 35,
   "id": "961b6ae7",
   "metadata": {},
   "outputs": [
    {
     "data": {
      "image/png": "[encoded data removed]",
      "text/plain": [
       "<Figure size 640x480 with 1 Axes>"
      ]
     },
     "metadata": {},
     "output_type": "display_data"
    }
   ],
   "source": [
    "plt.plot(iterations)\n",
    "plt.title('iterations en fonction de l episode')\n",
    "plt.xlabel('episodes')\n",
    "plt.ylabel('nombre iterations')\n",
    "plt.show()"
   ]
  },
  {
   "cell_type": "code",
   "execution_count": 33,
   "id": "0c88bbfb",
   "metadata": {},
   "outputs": [],
   "source": [
    "def test():\n",
    "    s = S\n",
    "    clear_output(wait=True)\n",
    "    grid(s)\n",
    "    time.sleep(1)\n",
    "    mouv = 1\n",
    "    while True:\n",
    "        a = action_max(Q,s)\n",
    "        s = new_state(s,a) \n",
    "        clear_output(wait=True)\n",
    "        grid(s)\n",
    "        print(f'mouv {mouv}')\n",
    "        if s[0] == G[0] and s[1]==G[1]:\n",
    "            break\n",
    "        time.sleep(0.5)\n",
    "        mouv+=1"
   ]
  },
  {
   "cell_type": "code",
   "execution_count": 34,
   "id": "60c83cff",
   "metadata": {},
   "outputs": [
    {
     "name": "stdout",
     "output_type": "stream",
     "text": [
      "[[ 0.  0.  0.  0.  0.  0.  0.  0.  0.  0.]\n",
      " [ 0.  0.  0.  0.  0.  0.  0.  0.  0.  0.]\n",
      " [ 0.  0.  0.  0.  0.  0.  0.  0.  0.  0.]\n",
      " [ 0.  0.  0.  0.  0.  0.  0. 10.  0.  0.]\n",
      " [ 0.  0.  0.  0.  0.  0.  0.  0.  0.  0.]\n",
      " [ 0.  0.  0.  0.  0.  0.  0.  0.  0.  0.]\n",
      " [ 0.  0.  0.  0.  0.  0.  0.  0.  0.  0.]]\n",
      "mouv 16\n"
     ]
    }
   ],
   "source": [
    "test()"
   ]
  },
  {
   "cell_type": "code",
   "execution_count": null,
   "id": "fd16153c",
   "metadata": {},
   "outputs": [],
   "source": []
  }
 ],
 "metadata": {
  "kernelspec": {
   "display_name": "Python 3 (ipykernel)",
   "language": "python",
   "name": "python3"
  },
  "language_info": {
   "codemirror_mode": {
    "name": "ipython",
    "version": 3
   },
   "file_extension": ".py",
   "mimetype": "text/x-python",
   "name": "python",
   "nbconvert_exporter": "python",
   "pygments_lexer": "ipython3",
   "version": "3.10.12"
  }
 },
 "nbformat": 4,
 "nbformat_minor": 5
}
